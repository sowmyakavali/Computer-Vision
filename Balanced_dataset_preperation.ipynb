{
  "cells": [
    {
      "cell_type": "markdown",
      "metadata": {
        "id": "view-in-github",
        "colab_type": "text"
      },
      "source": [
        "<a href=\"https://colab.research.google.com/github/sowmyakavali/Computer-Vision/blob/main/Balanced_dataset_preperation.ipynb\" target=\"_parent\"><img src=\"https://colab.research.google.com/assets/colab-badge.svg\" alt=\"Open In Colab\"/></a>"
      ]
    },
    {
      "cell_type": "markdown",
      "metadata": {
        "id": "6JCiGTfj26Zw"
      },
      "source": [
        "#### Libraries"
      ]
    },
    {
      "cell_type": "code",
      "execution_count": null,
      "metadata": {
        "id": "dVlR0WYJ26Zz"
      },
      "outputs": [],
      "source": [
        "import os\n",
        "import cv2\n",
        "import glob\n",
        "import shutil\n",
        "import pandas as pd\n",
        "from tqdm import tqdm\n",
        "from matplotlib import pyplot as plt"
      ]
    },
    {
      "cell_type": "markdown",
      "metadata": {
        "id": "91jn4zu626Z2"
      },
      "source": [
        "#### Get the count of labels and plot histogram"
      ]
    },
    {
      "cell_type": "code",
      "execution_count": null,
      "metadata": {
        "id": "27VjYk4_26Z4"
      },
      "outputs": [],
      "source": [
        "def get_count_labels(labels_path):\n",
        "    annotations = glob.glob(os.path.join(labels_path, \"*.txt\"))\n",
        "    labels = {}\n",
        "    for filename in tqdm(annotations):\n",
        "        if not filename.endswith(\"classes.txt\"):\n",
        "            with open(filename, 'r') as f:\n",
        "                lines = f.readlines()\n",
        "                for line in lines:\n",
        "                    line = line.split(\" \")\n",
        "                    cls = int(line[0])\n",
        "                    if not cls in list(labels.keys()):\n",
        "                        labels[cls] = 1\n",
        "                    else:\n",
        "                        labels[cls] += 1\n",
        "                        \n",
        "    return dict(sorted(labels.items()))"
      ]
    },
    {
      "cell_type": "code",
      "execution_count": null,
      "metadata": {
        "id": "n5T8aisX26Z6",
        "outputId": "fcd5c60a-a983-45eb-aacf-c1b25b20720c"
      },
      "outputs": [
        {
          "name": "stderr",
          "output_type": "stream",
          "text": [
            "100%|██████████| 1026/1026 [00:11<00:00, 87.46it/s]"
          ]
        },
        {
          "name": "stdout",
          "output_type": "stream",
          "text": [
            "{0: 331, 1: 34, 2: 159, 3: 45, 4: 641, 5: 1}\n"
          ]
        },
        {
          "name": "stderr",
          "output_type": "stream",
          "text": [
            "\n"
          ]
        },
        {
          "data": {
            "text/plain": [
              "Text(0.5, 0.98, 'Classes and Instances count')"
            ]
          },
          "execution_count": 5,
          "metadata": {},
          "output_type": "execute_result"
        },
        {
          "data": {
            "image/png": "[encoded data removed]",
            "text/plain": [
              "<Figure size 360x360 with 1 Axes>"
            ]
          },
          "metadata": {
            "needs_background": "light"
          },
          "output_type": "display_data"
        }
      ],
      "source": [
        "# .txt files path\n",
        "labels_path = \"Dataset\"\n",
        "labels_count = get_count_labels(labels_path)\n",
        "print(labels_count)\n",
        "\n",
        "names, values = list(labels_count.keys()), list(labels_count.values())\n",
        "fig, axs = plt.subplots(figsize=(5, 5))\n",
        "axs.bar(names, values)\n",
        "fig.suptitle('Classes and Instances count')"
      ]
    },
    {
      "cell_type": "markdown",
      "metadata": {
        "id": "CqGr3R3D26Z8"
      },
      "source": [
        "#### You can extract specific count of instances for each class To get the balanced dataset"
      ]
    },
    {
      "cell_type": "code",
      "execution_count": null,
      "metadata": {
        "id": "ZeYn5fkt26Z9",
        "outputId": "d15cbd90-65de-4494-b77f-5b20e46dab9e"
      },
      "outputs": [
        {
          "name": "stdout",
          "output_type": "stream",
          "text": [
            "383\n"
          ]
        },
        {
          "data": {
            "text/plain": [
              "383"
            ]
          },
          "execution_count": 7,
          "metadata": {},
          "output_type": "execute_result"
        }
      ],
      "source": [
        "# You can give count of each class you needed\n",
        "required_counts = {0:100, 1:100, 2:100, 3:100, 4:100}\n",
        "\n",
        "# list of all annotations\n",
        "annos = glob.glob(labels_path + \"/*.txt\")\n",
        "\n",
        "new_annos = []\n",
        "new_annosCount = {}\n",
        "for labelfile in annos:\n",
        "    filename = labelfile.split(\"/\")[-1]\n",
        "    with open(labelfile, 'r') as f:\n",
        "        lines = f.readlines()\n",
        "        for line in lines:\n",
        "            values = line.split(\" \")\n",
        "            cls = int(values[0])\n",
        "            box = list(map(float, values[1:]))\n",
        "            if not cls in list(new_annosCount.keys()):\n",
        "                new_annosCount[cls] = 1\n",
        "                new_annos.append([filename, cls] + box)\n",
        "            else:\n",
        "                if new_annosCount[cls] <= required_counts[cls]:\n",
        "                    new_annos.append([filename, cls] + box)\n",
        "                new_annosCount[cls] += 1\n",
        "\n",
        "print(len(new_annos))\n",
        "# create dataframe to extracted labels\n",
        "df = pd.DataFrame(new_annos, columns=['filename', 'classind', 'xcenter', 'ycenter', 'width', 'height'])\n",
        "len(df)"
      ]
    },
    {
      "cell_type": "markdown",
      "metadata": {
        "id": "j1Gn9MgX26Z_"
      },
      "source": [
        "#### save those extracted labels in new directory"
      ]
    },
    {
      "cell_type": "code",
      "execution_count": null,
      "metadata": {
        "id": "ZJp0ZQsY26aB",
        "outputId": "6ba9d93b-fc5f-4b12-bcfe-1c1c01452068"
      },
      "outputs": [
        {
          "name": "stderr",
          "output_type": "stream",
          "text": [
            "100%|██████████| 338/338 [00:00<00:00, 13637.26it/s]"
          ]
        },
        {
          "name": "stdout",
          "output_type": "stream",
          "text": [
            "{0: 101, 1: 34, 2: 101, 3: 45, 4: 101, 5: 1}\n"
          ]
        },
        {
          "name": "stderr",
          "output_type": "stream",
          "text": [
            "\n"
          ]
        },
        {
          "data": {
            "text/plain": [
              "Text(0.5, 0.98, 'Classes and Instances count')"
            ]
          },
          "execution_count": 9,
          "metadata": {},
          "output_type": "execute_result"
        },
        {
          "data": {
            "image/png": "[encoded data removed]",
            "text/plain": [
              "<Figure size 360x360 with 1 Axes>"
            ]
          },
          "metadata": {
            "needs_background": "light"
          },
          "output_type": "display_data"
        }
      ],
      "source": [
        "savedir = \"/home/user/Desktop/Detection-Balanced\"\n",
        "if not os.path.isdir(savedir):\n",
        "    os.makedirs(savedir)\n",
        "\n",
        "for filename, group in df.groupby(['filename']):\n",
        "    imagename = filename.split(\"/\")[-1].replace(\".txt\", \".jpg\")\n",
        "    if os.path.isfile(imagename):\n",
        "        with open(os.path.join(savedir, filename), 'w') as f:\n",
        "            for i, line in group.iterrows():\n",
        "                l = str(line['classind']) + \" \" + str(line['xcenter']) + \" \" + str(line['ycenter']) + \" \" + str(line['width']) + \" \" + str(line['height']) + \"\\n\"\n",
        "                f.write(l)\n",
        "\n",
        "        \n",
        "        shutil.copyfile(os.path.join(labels_path, imagename), os.path.join(savedir, imagename))\n",
        "        \n",
        "\n",
        "# -------plot histogram of balanced dataset ----------------\n",
        "labels_count = get_count_labels(savedir)\n",
        "print(labels_count)\n",
        "\n",
        "names, values = list(labels_count.keys()), list(labels_count.values())\n",
        "fig, axs = plt.subplots(figsize=(5, 5))\n",
        "axs.bar(names, values)\n",
        "fig.suptitle('Classes and Instances count')"
      ]
    },
    {
      "cell_type": "markdown",
      "metadata": {
        "id": "8K6b1xTh26aE"
      },
      "source": [
        "#### Split Dataset into Train and Val"
      ]
    },
    {
      "cell_type": "code",
      "execution_count": null,
      "metadata": {
        "id": "km3NQxXo26aF"
      },
      "outputs": [],
      "source": [
        "train_images = \"/home/user/Desktop/Data/train/images\"\n",
        "train_labels = \"/home/user/Desktop/Data/train/labels\"\n",
        "val_images = \"/home/user/Desktop/Data/val/images\"\n",
        "val_labels = \"/home/user/Desktop/Data/val/labels\"\n",
        "test_images = \"/home/user/Desktop/Data/test/images\"\n",
        "test_labels = \"/home/user/Desktop/Data/test/labels\"\n",
        "\n",
        "if not os.path.isdir(train_images):\n",
        "    os.makedirs(train_images)\n",
        "\n",
        "if not os.path.isdir(train_labels):\n",
        "    os.makedirs(train_labels)\n",
        "\n",
        "if not os.path.isdir(val_images):\n",
        "    os.makedirs(val_images)\n",
        "\n",
        "if not os.path.isdir(val_labels):\n",
        "    os.makedirs(val_labels)     \n",
        "\n",
        "if not os.path.isdir(test_images):\n",
        "    os.makedirs(test_images)\n",
        "\n",
        "if not os.path.isdir(test_labels):\n",
        "    os.makedirs(test_labels)     \n",
        "\n",
        "train_per = 0.7\n",
        "val_per = 0.2\n",
        "test_per = 0.1 "
      ]
    },
    {
      "cell_type": "code",
      "execution_count": null,
      "metadata": {
        "id": "7Hfmc9k-26aM"
      },
      "outputs": [],
      "source": [
        "images = glob.glob(savedir + \"/*.jpg\")\n",
        "trainfilescount = int(train_per * len(images))\n",
        "valfilescount= trainfilescount + int(val_per * len(images))\n",
        "testfilescount = valfilescount + int(test_per * len(images))\n",
        "\n",
        "# training images\n",
        "for imfile in images[:trainfilescount]:\n",
        "    txtfile = imfile.replace(\".jpg\", \".txt\")\n",
        "    if os.path.isfile(txtfile):\n",
        "        shutil.copyfile(imfile, os.path.join(train_images, imfile.split(\"/\")[-1]))\n",
        "        shutil.copyfile(txtfile, os.path.join(train_labels, txtfile.split(\"/\")[-1]))\n",
        "\n",
        "# validation images\n",
        "for imfile in images[trainfilescount:valfilescount]:\n",
        "    txtfile = imfile.replace(\".jpg\", \".txt\")\n",
        "    if os.path.isfile(txtfile):\n",
        "        shutil.copyfile(imfile, os.path.join(val_images, imfile.split(\"/\")[-1]))\n",
        "        shutil.copyfile(txtfile, os.path.join(val_labels, txtfile.split(\"/\")[-1]))\n",
        "\n",
        "# test images\n",
        "for imfile in images[valfilescount:]:\n",
        "    txtfile = imfile.replace(\".jpg\", \".txt\")\n",
        "    if os.path.isfile(txtfile):\n",
        "        shutil.copyfile(imfile, os.path.join(test_images, imfile.split(\"/\")[-1]))\n",
        "        shutil.copyfile(txtfile, os.path.join(test_labels, txtfile.split(\"/\")[-1]))"
      ]
    },
    {
      "cell_type": "markdown",
      "metadata": {
        "id": "QU-Ogo0a26aN"
      },
      "source": [
        "##### Train set labels histogram"
      ]
    },
    {
      "cell_type": "code",
      "execution_count": null,
      "metadata": {
        "id": "WCql1omv26aO",
        "outputId": "be98716d-98b4-48c4-9138-963210e2b9a0"
      },
      "outputs": [
        {
          "name": "stderr",
          "output_type": "stream",
          "text": [
            "100%|██████████| 235/235 [00:00<00:00, 16252.17it/s]"
          ]
        },
        {
          "name": "stdout",
          "output_type": "stream",
          "text": [
            "{0: 68, 1: 28, 2: 76, 3: 33, 4: 61}\n"
          ]
        },
        {
          "name": "stderr",
          "output_type": "stream",
          "text": [
            "\n"
          ]
        },
        {
          "data": {
            "text/plain": [
              "Text(0.5, 0.98, 'Training Classes and Instances count')"
            ]
          },
          "execution_count": 12,
          "metadata": {},
          "output_type": "execute_result"
        },
        {
          "data": {
            "image/png": "[encoded data removed]",
            "text/plain": [
              "<Figure size 360x360 with 1 Axes>"
            ]
          },
          "metadata": {
            "needs_background": "light"
          },
          "output_type": "display_data"
        }
      ],
      "source": [
        "labels_count = get_count_labels(train_labels)\n",
        "print(labels_count)\n",
        "\n",
        "names, values = list(labels_count.keys()), list(labels_count.values())\n",
        "fig, axs = plt.subplots(figsize=(5, 5))\n",
        "axs.bar(names, values)\n",
        "fig.suptitle('Training Classes and Instances count')"
      ]
    },
    {
      "cell_type": "markdown",
      "metadata": {
        "id": "nE2an3rg26aQ"
      },
      "source": [
        "##### Validation set labels histogram"
      ]
    },
    {
      "cell_type": "code",
      "execution_count": null,
      "metadata": {
        "id": "pePp8xyv26aQ",
        "outputId": "ccfad561-6fde-4a8b-d1b2-6f9c51b53532"
      },
      "outputs": [
        {
          "name": "stderr",
          "output_type": "stream",
          "text": [
            "100%|██████████| 67/67 [00:00<00:00, 10636.98it/s]"
          ]
        },
        {
          "name": "stdout",
          "output_type": "stream",
          "text": [
            "{0: 27, 1: 5, 2: 15, 3: 8, 4: 22}\n"
          ]
        },
        {
          "name": "stderr",
          "output_type": "stream",
          "text": [
            "\n"
          ]
        },
        {
          "data": {
            "text/plain": [
              "Text(0.5, 0.98, 'Validation Classes and Instances count')"
            ]
          },
          "execution_count": 13,
          "metadata": {},
          "output_type": "execute_result"
        },
        {
          "data": {
            "image/png": "[encoded data removed]",
            "text/plain": [
              "<Figure size 360x360 with 1 Axes>"
            ]
          },
          "metadata": {
            "needs_background": "light"
          },
          "output_type": "display_data"
        }
      ],
      "source": [
        "labels_count = get_count_labels(val_labels)\n",
        "print(labels_count)\n",
        "\n",
        "names, values = list(labels_count.keys()), list(labels_count.values())\n",
        "fig, axs = plt.subplots(figsize=(5, 5))\n",
        "axs.bar(names, values)\n",
        "fig.suptitle('Validation Classes and Instances count')"
      ]
    },
    {
      "cell_type": "markdown",
      "metadata": {
        "id": "ryEp-Hq526aR"
      },
      "source": [
        "#### Draw the bounding boxes and verify them whether they are correctly labelled or not"
      ]
    },
    {
      "cell_type": "code",
      "execution_count": null,
      "metadata": {
        "id": "odh18eRu26aT"
      },
      "outputs": [],
      "source": [
        "def verify_your_convertedlabels(images_path, verification_path, count, labels_path, labels_names):\n",
        "    \n",
        "    if not os.path.isdir(verification_path):\n",
        "        os.makedirs(verification_path)\n",
        "        \n",
        "    generated_txts = glob.glob(labels_path + \"/\" + \"*.txt\")#[:count]\n",
        "\n",
        "    # define color values here\n",
        "    colors_dict = {0:(0,0,255), 1:(0,255,0), 2:(255,0,0), 3:(255,255,0), 4:(255,0,255)}\n",
        "    for i in generated_txts:\n",
        "        txt = i.split(\"/\")[-1]\n",
        "        img = txt.replace(\".txt\", \".jpg\")\n",
        "        image = os.path.join(images_path, img)\n",
        "        im = cv2.imread(image)\n",
        "        h, w = im.shape[:2]\n",
        "\n",
        "        # plt.figure(figsize = (100, 100)) \n",
        "        with open(i, 'r') as f:\n",
        "            lines = f.readlines()\n",
        "            for line in lines:\n",
        "                  line = line.strip().split(\" \")\n",
        "                  cls = int(line[0])\n",
        "                  classname = labels_names[cls]\n",
        "                  x1,y1,w1,h1 = map(float, line[1:])\n",
        "                  xmin = int((x1*w) - (w1*w)/2.0)\n",
        "                  ymin = int((y1*h) - (h1*h)/2.0)\n",
        "                  xmax = int((x1*w) + (w1*w)/2.0)\n",
        "                  ymax = int((y1*h) + (h1*h)/2.0)\n",
        "                  color = colors_dict[cls]\n",
        "                  im = cv2.rectangle(im, (xmin, ymin), (xmax, ymax), color, 4)\n",
        "                  im = cv2.putText(im, classname, (xmin-10, ymin-10), cv2.FONT_HERSHEY_SIMPLEX, 1, color, 6, cv2.LINE_AA)\n",
        "        cv2.imwrite(os.path.join(verification_path, img), im)\n",
        "\n",
        "\n",
        "# some example count to check\n",
        "count = -1\n",
        "# images and labels paths\n",
        "images_path = \"/home/user/Desktop/Data/train/images\"\n",
        "labels_path = \"/home/user/Desktop/Data/train/labels\"\n",
        "# path to save verification images\n",
        "verification_path = \"/home/user/Desktop/verification/train\"\n",
        "# classes list\n",
        "labels_names = {0:'car', 1:'bus', 2:'bike', 3:'bicycle', 4:'zeep'}\n",
        "# Start verifying\n",
        "verify_your_convertedlabels(images_path, verification_path, count, labels_path, labels_names)"
      ]
    }
  ],
  "metadata": {
    "interpreter": {
      "hash": "7170b0098373af51981dcc44c05ba6b20d1097762265412215e0a48048cb5cbb"
    },
    "kernelspec": {
      "display_name": "Python 3.6.9 ('env': venv)",
      "language": "python",
      "name": "python3"
    },
    "language_info": {
      "codemirror_mode": {
        "name": "ipython",
        "version": 3
      },
      "file_extension": ".py",
      "mimetype": "text/x-python",
      "name": "python",
      "nbconvert_exporter": "python",
      "pygments_lexer": "ipython3",
      "version": "3.6.9"
    },
    "orig_nbformat": 4,
    "colab": {
      "name": "Balanced_dataset_preperation.ipynb",
      "provenance": [],
      "include_colab_link": true
    }
  },
  "nbformat": 4,
  "nbformat_minor": 0
}