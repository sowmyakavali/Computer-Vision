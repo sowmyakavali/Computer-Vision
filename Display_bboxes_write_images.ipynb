{
  "cells": [
    {
      "cell_type": "markdown",
      "metadata": {
        "id": "view-in-github",
        "colab_type": "text"
      },
      "source": [
        "<a href=\"https://colab.research.google.com/github/sowmyakavali/Computer-Vision/blob/main/Display_bboxes_write_images.ipynb\" target=\"_parent\"><img src=\"https://colab.research.google.com/assets/colab-badge.svg\" alt=\"Open In Colab\"/></a>"
      ]
    },
    {
      "cell_type": "markdown",
      "source": [
        "## Read bounding boxes from yolov5 format annotations and display them"
      ],
      "metadata": {
        "id": "Ms812_IeH2-J"
      }
    },
    {
      "cell_type": "markdown",
      "metadata": {
        "id": "9hawYvdFHz4Z"
      },
      "source": [
        "#### Libraries"
      ]
    },
    {
      "cell_type": "code",
      "execution_count": null,
      "metadata": {
        "id": "XTKP2uv6Hz4d"
      },
      "outputs": [],
      "source": [
        "import os\n",
        "import cv2\n",
        "import glob\n",
        "from tqdm import tqdm"
      ]
    },
    {
      "cell_type": "markdown",
      "metadata": {
        "id": "MG7tb5YwHz4f"
      },
      "source": [
        "#### class to generate different colors for different classes"
      ]
    },
    {
      "cell_type": "code",
      "execution_count": null,
      "metadata": {
        "id": "-uXR1iAtHz4g"
      },
      "outputs": [],
      "source": [
        "class Colors:\n",
        "    # Ultralytics color palette https://ultralytics.com/\n",
        "    def __init__(self):\n",
        "        # hex = matplotlib.colors.TABLEAU_COLORS.values()\n",
        "        hex = ('FF3838', 'FF9D97', 'FF701F', 'FFB21D', 'CFD231', '48F90A', '92CC17', '3DDB86', '1A9334', '00D4BB',\n",
        "               '2C99A8', '00C2FF', '344593', '6473FF', '0018EC', '8438FF', '520085', 'CB38FF', 'FF95C8', 'FF37C7')\n",
        "        self.palette = [self.hex2rgb('#' + c) for c in hex]\n",
        "        self.n = len(self.palette)\n",
        "\n",
        "    def __call__(self, i, bgr=False):\n",
        "        c = self.palette[int(i) % self.n]\n",
        "        return (c[2], c[1], c[0]) if bgr else c\n",
        "\n",
        "    @staticmethod\n",
        "    def hex2rgb(h):  # rgb order (PIL)\n",
        "        return tuple(int(h[1 + i:1 + i + 2], 16) for i in (0, 2, 4))"
      ]
    },
    {
      "cell_type": "markdown",
      "metadata": {
        "id": "NkMluYRNHz4i"
      },
      "source": [
        "##### Method 1 to draw bboxes and save them according to class"
      ]
    },
    {
      "cell_type": "code",
      "execution_count": null,
      "metadata": {
        "id": "Wbm1C2NKHz4j"
      },
      "outputs": [],
      "source": [
        "def draw_all_bboxes_classwise(generated_txts, save_dir, label, colors):\n",
        "\n",
        "    for i in tqdm(range(len(generated_txts))):\n",
        "        filename = generated_txts[i]\n",
        "\n",
        "        if not filename.endswith(\"classes.txt\"):\n",
        "            txt = filename.split(\"/\")[-1]\n",
        "            img = txt.replace(\".txt\", \".jpg\")\n",
        "            image = os.path.join(images_path, img)\n",
        "            im = cv2.imread(image)\n",
        "            h, w = im.shape[:2]\n",
        "            count = 0\n",
        "            with open(filename, 'r') as f:\n",
        "                lines = f.readlines()\n",
        "                for line in lines:\n",
        "                    line = line.split(\" \")\n",
        "                    cls = int(line[0])\n",
        "                    if cls == label:\n",
        "                        count += 1\n",
        "                    classname = labels_names[cls]\n",
        "                    x1,y1,w1,h1 = map(float, line[1:])\n",
        "                    xmin = int((x1*w) - (w1*w)/2.0)\n",
        "                    ymin = int((y1*h) - (h1*h)/2.0)\n",
        "                    xmax = int((x1*w) + (w1*w)/2.0)\n",
        "                    ymax = int((y1*h) + (h1*h)/2.0)\n",
        "                    color = colors(cls, True)\n",
        "                    thickness = 10\n",
        "                    im = cv2.rectangle(im, (xmin, ymin), (xmax, ymax), color, thickness)\n",
        "                    im = cv2.putText(im, classname, (xmin-10, ymin-10), cv2.FONT_HERSHEY_SIMPLEX, 2, color, thickness, cv2.LINE_AA)\n",
        "            if count:                  \n",
        "                cv2.imwrite(os.path.join(save_dir, str(label), img), im)   "
      ]
    },
    {
      "cell_type": "markdown",
      "metadata": {
        "id": "i4a9WKgFHz4l"
      },
      "source": [
        "#### Method 2 : draw all bboxes at a time and save the images"
      ]
    },
    {
      "cell_type": "code",
      "execution_count": null,
      "metadata": {
        "id": "IiT-wtdBHz4m"
      },
      "outputs": [],
      "source": [
        "def draw_all_bboxes(generated_txts, save_dir, colors):\n",
        "\n",
        "    for i in tqdm(range(len(generated_txts))):\n",
        "        filename = generated_txts[i]\n",
        "\n",
        "        if not filename.endswith(\"classes.txt\"):\n",
        "            txt = filename.split(\"/\")[-1]\n",
        "            img = txt.replace(\".txt\", \".jpg\")\n",
        "            image = os.path.join(images_path, img)\n",
        "            im = cv2.imread(image)\n",
        "            h, w = im.shape[:2]\n",
        "            with open(filename, 'r') as f:\n",
        "                lines = f.readlines()\n",
        "                for line in lines:\n",
        "                    line = line.split(\" \")\n",
        "                    cls = int(line[0])\n",
        "                    classname = labels_names[cls]\n",
        "                    x1,y1,w1,h1 = map(float, line[1:])\n",
        "                    xmin = int((x1*w) - (w1*w)/2.0)\n",
        "                    ymin = int((y1*h) - (h1*h)/2.0)\n",
        "                    xmax = int((x1*w) + (w1*w)/2.0)\n",
        "                    ymax = int((y1*h) + (h1*h)/2.0)\n",
        "                    color = colors(cls, True)\n",
        "                    thickness = 10\n",
        "                    im = cv2.rectangle(im, (xmin, ymin), (xmax, ymax), color, thickness)\n",
        "                    im = cv2.putText(im, classname, (xmin-10, ymin-10), cv2.FONT_HERSHEY_SIMPLEX, 2, color, thickness, cv2.LINE_AA)\n",
        "               \n",
        "            cv2.imwrite(os.path.join(save_dir, img), im) "
      ]
    },
    {
      "cell_type": "markdown",
      "metadata": {
        "id": "k-UN0ODNHz4o"
      },
      "source": [
        "#### Main function"
      ]
    },
    {
      "cell_type": "code",
      "execution_count": null,
      "metadata": {
        "id": "Gs6CCiLaHz4q"
      },
      "outputs": [],
      "source": [
        "def Visualize_yolo_bboxes_and_Write(images_path, labels_path, save_dir, labels_names, count, classwise = False):\n",
        "\n",
        "    # Check whether paths exists or not\n",
        "    if not os.path.isdir(images_path):\n",
        "        print(\"Images path does not exists\")\n",
        "    if not os.path.isdir(labels_path):\n",
        "        print(\"Labels path does not exists\")\n",
        "    # Create folder to save new images\n",
        "    save_dir = os.path.join(save_dir, \"visualization\")\n",
        "    if not os.path.isdir(save_dir):\n",
        "        os.makedirs(save_dir)\n",
        "    \n",
        "    # list out all the labels\n",
        "    generated_txts = glob.glob(labels_path + \"/\" + \"*.txt\")[:count]\n",
        "    # colors class\n",
        "    colors = Colors()\n",
        "\n",
        "    if classwise:\n",
        "        # create classwise folder and draw bboxes on image and write \n",
        "        for label in labels_names:\n",
        "            label = labels_names.index(label)\n",
        "            \n",
        "\n",
        "            if not os.path.isdir(os.path.join(save_dir, str(label))):\n",
        "                os.makedirs(os.path.join(save_dir, str(label)))\n",
        "\n",
        "            draw_all_bboxes_classwise(generated_txts, save_dir, label, colors)\n",
        "    else:\n",
        "        # create 1 folder , draw all classes bboxes and write the image\n",
        "        draw_all_bboxes(generated_txts, save_dir, colors)\n",
        "\n",
        "    print(\"Done\") \n",
        "    print(f\"Saved Results at {save_dir}\")"
      ]
    },
    {
      "cell_type": "code",
      "execution_count": null,
      "metadata": {
        "id": "dBEkvPVJHz4s",
        "outputId": "c4b41601-13b6-4c69-df03-15a53271d4bc"
      },
      "outputs": [
        {
          "name": "stderr",
          "output_type": "stream",
          "text": [
            "100%|██████████| 30/30 [00:05<00:00,  5.36it/s]\n",
            "100%|██████████| 30/30 [00:05<00:00,  6.00it/s]\n",
            "100%|██████████| 30/30 [00:06<00:00,  4.91it/s]\n",
            "100%|██████████| 30/30 [00:04<00:00,  6.49it/s]\n",
            "100%|██████████| 30/30 [00:04<00:00,  7.03it/s]"
          ]
        },
        {
          "name": "stdout",
          "output_type": "stream",
          "text": [
            "Done\n",
            "Saved Results at ../../Documentation/visualization\n"
          ]
        },
        {
          "name": "stderr",
          "output_type": "stream",
          "text": [
            "\n"
          ]
        }
      ],
      "source": [
        "            \n",
        "count = -1\n",
        "# Arpitha, kavitha, Nischitha\n",
        "labels_names = ['car', 'bus', 'None', 'zeep', 'tractor']\n",
        "\n",
        "# declare paths\n",
        "images_path = \"../../Documentation/Images\" \n",
        "labels_path = \"../../Documentation/labels\"\n",
        "save_dir = '../../Documentation/'\n",
        "\n",
        "# classwise or not\n",
        "classwise = True\n",
        "# Start verifying\n",
        "Visualize_yolo_bboxes_and_Write(images_path, labels_path, save_dir, labels_names, count, classwise)"
      ]
    }
  ],
  "metadata": {
    "interpreter": {
      "hash": "7170b0098373af51981dcc44c05ba6b20d1097762265412215e0a48048cb5cbb"
    },
    "kernelspec": {
      "display_name": "Python 3.6.9 ('env': venv)",
      "language": "python",
      "name": "python3"
    },
    "language_info": {
      "codemirror_mode": {
        "name": "ipython",
        "version": 3
      },
      "file_extension": ".py",
      "mimetype": "text/x-python",
      "name": "python",
      "nbconvert_exporter": "python",
      "pygments_lexer": "ipython3",
      "version": "3.6.9"
    },
    "orig_nbformat": 4,
    "colab": {
      "name": "Display_bboxes_write_images.ipynb",
      "provenance": [],
      "include_colab_link": true
    }
  },
  "nbformat": 4,
  "nbformat_minor": 0
}