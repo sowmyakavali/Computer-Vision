{
 "cells": [
  {
   "cell_type": "markdown",
   "id": "c1f2618b",
   "metadata": {},
   "source": [
    "## Setup\n",
    "\n",
    "#### Clone repo, install dependencies and check PyTorch and GPU."
   ]
  },
  {
   "cell_type": "code",
   "execution_count": null,
   "id": "7e049533",
   "metadata": {},
   "outputs": [],
   "source": [
    "!git clone https://github.com/ultralytics/yolov5  # clone\n",
    "%cd yolov5\n",
    "%pip install -qr requirements.txt  # install"
   ]
  },
  {
   "cell_type": "code",
   "execution_count": null,
   "id": "d979f08a",
   "metadata": {},
   "outputs": [],
   "source": [
    "# Tensorboard  (optional)\n",
    "%load_ext tensorboard\n",
    "%tensorboard --logdir runs/train"
   ]
  },
  {
   "cell_type": "code",
   "execution_count": null,
   "id": "92babacc",
   "metadata": {},
   "outputs": [],
   "source": [
    "# Weights & Biases  (optional)\n",
    "%pip install -q wandb\n",
    "import wandb\n",
    "wandb.login()"
   ]
  },
  {
   "cell_type": "markdown",
   "id": "9ab674c3",
   "metadata": {},
   "source": [
    "## 1. Start Training ¶"
   ]
  },
  {
   "cell_type": "code",
   "execution_count": null,
   "id": "89cc4cc0",
   "metadata": {},
   "outputs": [],
   "source": [
    "# Train YOLOv5s on COCO128 for 3 epochs\n",
    "!python3 train.py --img 1600 --batch 8 --epochs 500 --data ../data.yaml --weights yolov5s.pt --patience 20 --save-period 10 --cache"
   ]
  },
  {
   "cell_type": "markdown",
   "id": "93661816",
   "metadata": {},
   "source": [
    "## 2. Validate¶\n",
    "\n",
    "        Validate a model's accuracy on COCO val or test-dev datasets.To show results by class use the --verbose flag. Note that pycocotools metrics may be ~1% better than the equivalent repo metrics, as is visible below, due to slight differences in mAP computation."
   ]
  },
  {
   "cell_type": "markdown",
   "id": "21b11971",
   "metadata": {},
   "source": [
    "        ## COCO val\n",
    "        Download [COCO val 2017](https://github.com/ultralytics/yolov5/blob/74b34872fdf41941cddcf243951cdb090fbac17b/data/coco.yaml#L14) dataset (1GB - 5000 images), and test model accuracy."
   ]
  },
  {
   "cell_type": "code",
   "execution_count": null,
   "id": "5e31ec3a",
   "metadata": {},
   "outputs": [],
   "source": [
    "# Download COCO val\n",
    "torch.hub.download_url_to_file('https://ultralytics.com/assets/coco2017val.zip', 'tmp.zip')\n",
    "!unzip -q tmp.zip -d ../datasets && rm tmp.zip"
   ]
  },
  {
   "cell_type": "code",
   "execution_count": null,
   "id": "3df92695",
   "metadata": {},
   "outputs": [],
   "source": [
    "# Run YOLOv5x on COCO val\n",
    "!python val.py --weights yolov5s.pt --data coco.yaml --img 1600 --iou 0.65 --verbose --half"
   ]
  },
  {
   "cell_type": "markdown",
   "id": "3f250317",
   "metadata": {},
   "source": [
    "## 1. Inference¶\n",
    "\n",
    "        detect.py runs YOLOv5 inference on a variety of sources, downloading models automatically from the latest YOLOv5 release, and saving results to runs/detect. Example inference sources are:\n",
    "\n",
    "        python detect.py --source 0  # webcam\n",
    "                                  img.jpg  # image \n",
    "                                  vid.mp4  # video\n",
    "                                  path/  # directory\n",
    "                                  path/*.jpg  # glob\n",
    "                                  'https://youtu.be/Zgi9g1ksQHc'  # YouTube\n",
    "                                  'rtsp://example.com/media.mp4'  # RTSP, RTMP, HTTP stream"
   ]
  },
  {
   "cell_type": "code",
   "execution_count": null,
   "id": "cd43c6ad",
   "metadata": {},
   "outputs": [],
   "source": [
    "!python detect.py --weights yolov5s.pt --img 1600 --conf 0.5 --source data/images\n",
    "display.Image(filename='runs/detect/exp/zidane.jpg', width=600)"
   ]
  }
 ],
 "metadata": {
  "kernelspec": {
   "display_name": "Python 3",
   "language": "python",
   "name": "python3"
  },
  "language_info": {
   "codemirror_mode": {
    "name": "ipython",
    "version": 3
   },
   "file_extension": ".py",
   "mimetype": "text/x-python",
   "name": "python",
   "nbconvert_exporter": "python",
   "pygments_lexer": "ipython3",
   "version": "3.6.9"
  }
 },
 "nbformat": 4,
 "nbformat_minor": 5
}
