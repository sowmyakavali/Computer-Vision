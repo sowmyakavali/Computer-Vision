{
  "cells": [
    {
      "cell_type": "markdown",
      "metadata": {
        "id": "view-in-github",
        "colab_type": "text"
      },
      "source": [
        "<a href=\"https://colab.research.google.com/github/sowmyakavali/Computer-Vision/blob/main/Recorrect_classIDS.ipynb\" target=\"_parent\"><img src=\"https://colab.research.google.com/assets/colab-badge.svg\" alt=\"Open In Colab\"/></a>"
      ]
    },
    {
      "cell_type": "markdown",
      "source": [
        "## **Read yolo format label files and change the class ids if anything is wrongly labelled.**"
      ],
      "metadata": {
        "id": "ZiA-W2KqIXBX"
      }
    },
    {
      "cell_type": "markdown",
      "source": [
        "#### Libraries"
      ],
      "metadata": {
        "id": "p6kuGMRyIQ38"
      }
    },
    {
      "cell_type": "code",
      "execution_count": null,
      "metadata": {
        "id": "hwyY_YFFIORa"
      },
      "outputs": [],
      "source": [
        "import os\n",
        "import glob \n",
        "from tqdm import tqdm"
      ]
    },
    {
      "cell_type": "code",
      "execution_count": null,
      "metadata": {
        "id": "bOrmqWk1IORd"
      },
      "outputs": [],
      "source": [
        "def change_classids(in_labels_path, ids_dict):\n",
        "\n",
        "    input_dir = \"/\".join(i for i in in_labels_path.split(\"/\")[:-1])\n",
        "    out_labels_path = os.path.join(input_dir, \"Corrected-Labels\")\n",
        "    print(out_labels_path)\n",
        "\n",
        "    if not os.path.isdir(out_labels_path):\n",
        "        os.makedirs(out_labels_path)\n",
        "        \n",
        "    allLabels = glob.glob(in_labels_path + \"/*.txt\")\n",
        "    for label in tqdm(allLabels):\n",
        "        if not label.endswith(\"classes.txt\"):\n",
        "            with open(label, 'r') as f:\n",
        "                lines = f.readlines()\n",
        "                for line in lines:\n",
        "                    values = line.split(\" \")\n",
        "                    cls = int(values[0])\n",
        "                    if cls in list(ids_dict.keys()):\n",
        "                        newcls = ids_dict[cls]\n",
        "                    else:\n",
        "                        print(line, label)\n",
        "                    new_line = str(newcls) + \" \" + values[1] + \" \" + values[2] + \" \" + values[3] + \" \" + values[4]\n",
        "\n",
        "                    with open(os.path.join(out_labels_path, label.split(\"/\")[-1]), 'a') as ff:\n",
        "                        ff.write(new_line)\n",
        "    print(\"Done\")\n",
        "    print(f\"Saved Results at {out_labels_path}\")"
      ]
    },
    {
      "cell_type": "code",
      "execution_count": null,
      "metadata": {
        "id": "MoXIVgAZIORh"
      },
      "outputs": [],
      "source": [
        "input_labels = \"data/labels\"\n",
        "#previous ids : new id\n",
        "changeIds = {7:3, 8:4, 9:0, 10:1}\n",
        "# call the function\n",
        "change_classids(input_labels, changeIds)"
      ]
    }
  ],
  "metadata": {
    "interpreter": {
      "hash": "7170b0098373af51981dcc44c05ba6b20d1097762265412215e0a48048cb5cbb"
    },
    "kernelspec": {
      "display_name": "Python 3.6.9 ('env': venv)",
      "language": "python",
      "name": "python3"
    },
    "language_info": {
      "codemirror_mode": {
        "name": "ipython",
        "version": 3
      },
      "file_extension": ".py",
      "mimetype": "text/x-python",
      "name": "python",
      "nbconvert_exporter": "python",
      "pygments_lexer": "ipython3",
      "version": "3.6.9"
    },
    "orig_nbformat": 4,
    "colab": {
      "name": "Recorrect_classIDS.ipynb",
      "provenance": [],
      "include_colab_link": true
    }
  },
  "nbformat": 4,
  "nbformat_minor": 0
}